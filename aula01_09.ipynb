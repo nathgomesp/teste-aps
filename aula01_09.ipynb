{
  "nbformat": 4,
  "nbformat_minor": 0,
  "metadata": {
    "colab": {
      "provenance": [],
      "authorship_tag": "ABX9TyMrRkQHLxXTaEmo7v0RPSEd",
      "include_colab_link": true
    },
    "kernelspec": {
      "name": "python3",
      "display_name": "Python 3"
    },
    "language_info": {
      "name": "python"
    }
  },
  "cells": [
    {
      "cell_type": "markdown",
      "metadata": {
        "id": "view-in-github",
        "colab_type": "text"
      },
      "source": [
        "<a href=\"https://colab.research.google.com/github/nathgomesp/teste-aps/blob/main/aula01_09.ipynb\" target=\"_parent\"><img src=\"https://colab.research.google.com/assets/colab-badge.svg\" alt=\"Open In Colab\"/></a>"
      ]
    },
    {
      "cell_type": "code",
      "source": [
        "\n",
        "num1= int (input (\"escreva o primeiro número \"))\n",
        "num2= int (input (\"escreva o segundo múmero \"))\n",
        "if num1 > num2:\n",
        "    maior= num1\n",
        "else: \n",
        "    maior= num2\n",
        "print (\"O maior número é\", maior)"
      ],
      "metadata": {
        "colab": {
          "base_uri": "https://localhost:8080/"
        },
        "id": "T-dAL4VnPxgS",
        "outputId": "2f190fd3-2dbd-4eaa-a2fe-77708f4e19ce"
      },
      "execution_count": null,
      "outputs": [
        {
          "output_type": "stream",
          "name": "stdout",
          "text": [
            "escreva o primeiro número 5\n",
            "escreva o segundo múmero 6\n",
            "O maior número é 6\n"
          ]
        }
      ]
    },
    {
      "cell_type": "code",
      "source": [
        "num1= int (input (\"digite o n1\"))\n",
        "num2= int (input (\"digite o n2\"))\n",
        "res= num1 + num2\n",
        "print(res)\n",
        "\n"
      ],
      "metadata": {
        "colab": {
          "base_uri": "https://localhost:8080/"
        },
        "id": "YpPesRSkR_bh",
        "outputId": "b2e67b81-1ca9-4e64-ae40-3b202e7a4a13"
      },
      "execution_count": null,
      "outputs": [
        {
          "output_type": "stream",
          "name": "stdout",
          "text": [
            "digite o n15\n",
            "digite o n23\n",
            "8\n"
          ]
        }
      ]
    },
    {
      "cell_type": "markdown",
      "source": [],
      "metadata": {
        "id": "ppeWATwlOIUS"
      }
    },
    {
      "cell_type": "code",
      "source": [
        "Velocidade= int(input (\"Qual a velocidade do seu carro em km?\"))\n",
        "if Velocidade>80:\n",
        "  multa = ((Velocidade-80)*5)\n",
        "  print (\"Você foi multado. O valor da multa é:\",  multa)"
      ],
      "metadata": {
        "colab": {
          "base_uri": "https://localhost:8080/"
        },
        "id": "dENM6gFhV4yr",
        "outputId": "ca58cfb2-c7ec-46b5-eaaf-1f1de6ede4cf"
      },
      "execution_count": null,
      "outputs": [
        {
          "output_type": "stream",
          "name": "stdout",
          "text": [
            "Qual a velocidade do seu carro em km?95\n",
            "Você foi multado. O valor da multa é: 75\n"
          ]
        }
      ]
    },
    {
      "cell_type": "code",
      "source": [
        "num1= int (input (\"escreva o primeiro número\"))\n",
        "num2= int (input (\"escreva o segundo múmero\"))\n",
        "num3= int (input (\"escreva o terceiro múmero\"))\n",
        "maior= num1\n",
        "if num2>maior:\n",
        "   maior= num2\n",
        "if num3>maior:\n",
        "   maior= num3    \n",
        "print (\"O maior número é\", maior)\n",
        "menor= num1\n",
        "if num2<menor:\n",
        "   menor= num2\n",
        "if num3<menor:\n",
        "   menor= num3\n",
        "print (\"o menor número é:\", menor)"
      ],
      "metadata": {
        "colab": {
          "base_uri": "https://localhost:8080/"
        },
        "id": "kFFod4rDYZr2",
        "outputId": "cd409f1f-f4c2-47d9-f78a-996ab3753d61"
      },
      "execution_count": null,
      "outputs": [
        {
          "output_type": "stream",
          "name": "stdout",
          "text": [
            "escreva o primeiro número3\n",
            "escreva o segundo múmero2\n",
            "escreva o terceiro múmero1\n",
            "O maior número é 3\n",
            "o menor número é: 1\n"
          ]
        }
      ]
    },
    {
      "cell_type": "code",
      "source": [
        "\n",
        "salario= float (input (\"Informe o salario\"))\n",
        "if salario>1250:\n",
        "  print(\"O aumento é:\",(salario*10)/100+salario)\n",
        "if salario<=1250:\n",
        "  print(\"O aumento é:\",(salario*15)/100+salario)\n",
        "\n"
      ],
      "metadata": {
        "colab": {
          "base_uri": "https://localhost:8080/"
        },
        "id": "vR-kLCuij9s0",
        "outputId": "c40d9299-a150-456f-ffc5-45f7ac0c96c9"
      },
      "execution_count": null,
      "outputs": [
        {
          "output_type": "stream",
          "name": "stdout",
          "text": [
            "Informe o salario1000\n",
            "O aumento é: 1150.0\n"
          ]
        }
      ]
    },
    {
      "cell_type": "code",
      "source": [],
      "metadata": {
        "id": "zGklAGdHnSi-"
      },
      "execution_count": null,
      "outputs": []
    }
  ]
}